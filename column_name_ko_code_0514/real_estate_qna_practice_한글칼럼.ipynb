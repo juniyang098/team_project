{
 "cells": [
  {
   "cell_type": "code",
   "execution_count": 5,
   "id": "63c13e8e",
   "metadata": {},
   "outputs": [],
   "source": [
    "import pymysql\n",
    "conn = pymysql.connect(host='127.0.0.1', user='user', password='user1234', db='opencc', charset='utf8')\n",
    "# db명 잘 설정해주기!\n",
    "cur = conn.cursor()"
   ]
  },
  {
   "cell_type": "code",
   "execution_count": 7,
   "id": "6179dce7",
   "metadata": {},
   "outputs": [
    {
     "name": "stdout",
     "output_type": "stream",
     "text": [
      "2024년 개포래미안포레스트의 실거래가 평균은 약 232641만 원입니다.\n"
     ]
    }
   ],
   "source": [
    "#1. 2024년 개포래미안포레스트 실거래가 얼마?\n",
    "# 실거래가 - 평균으로 제시함\n",
    "sql = \"SELECT AVG(거래금액) FROM y24_0101_0509_서울특별시 WHERE 단지명 LIKE '%개포래미안%'\"\n",
    "cur.execute(sql)\n",
    "results = cur.fetchall()\n",
    "\n",
    "results\n",
    "for i in results:\n",
    "    print(f'2024년 개포래미안포레스트의 실거래가 평균은 약 {int(i[0])}만 원입니다.')\n",
    "# print(f'2024년 개포래미안포레스트의 실거래가 평균은 약 {int(results[0][0])}만 원입니다.')"
   ]
  },
  {
   "cell_type": "code",
   "execution_count": 8,
   "id": "a207f205",
   "metadata": {},
   "outputs": [
    {
     "name": "stdout",
     "output_type": "stream",
     "text": [
      "요진와이시티미니, 1억 7000만 원\n"
     ]
    }
   ],
   "source": [
    "# 2. 2024년 4월 강남구에서 가장 저렴하게 거래된 아파트명이랑 가격 알려줘.\n",
    "sql = \"SELECT 단지명, 거래금액 FROM y24_0101_0509_서울특별시 WHERE 계약년월 = 202404 AND 시군구 LIKE '%강남구%' ORDER BY 거래금액 ASC LIMIT 1\"\n",
    "cur.execute(sql)\n",
    "results = cur.fetchall()\n",
    "\n",
    "results\n",
    "for i in results:\n",
    "    print(f'{i[0]}, {int(i[1])//10000}억 {int(i[1])%10000}만 원')"
   ]
  },
  {
   "cell_type": "code",
   "execution_count": 10,
   "id": "383c2482",
   "metadata": {
    "scrolled": true
   },
   "outputs": [
    {
     "name": "stdout",
     "output_type": "stream",
     "text": [
      "개나리SK뷰의 전용면적은 127.27m²이고, 거래금액은 358000만 원입니다.\n",
      "개포자이르네의 전용면적은 114.08m²이고, 거래금액은 232000만 원입니다.\n",
      "청담2차이-편한세상(201동,202동,203동)의 전용면적은 113.21m²이고, 거래금액은 240000만 원입니다.\n",
      "삼성청담공원아파트의 전용면적은 107.22m²이고, 거래금액은 190000만 원입니다.\n",
      "삼성동센트럴아이파크의 전용면적은 103.32m²이고, 거래금액은 349000만 원입니다.\n",
      "진흥아파트의 전용면적은 104.31m²이고, 거래금액은 230000만 원입니다.\n",
      "동부센트레빌의 전용면적은 121.74m²이고, 거래금액은 429000만 원입니다.\n",
      "개포우성2의 전용면적은 127.78m²이고, 거래금액은 400000만 원입니다.\n",
      "선경2차(8동-12동)의 전용면적은 127.75m²이고, 거래금액은 401000만 원입니다.\n",
      "한보미도맨션1의 전용면적은 128.01m²이고, 거래금액은 365000만 원입니다.\n",
      "현대8차(성수현대:91~95동)의 전용면적은 107.64m²이고, 거래금액은 360000만 원입니다.\n",
      "신현대12차의 전용면적은 121.18m²이고, 거래금액은 476500만 원입니다.\n",
      "현대13차(208~211동)의 전용면적은 105.31m²이고, 거래금액은 434000만 원입니다.\n",
      "현대8차(성수현대:91~95동)의 전용면적은 107.64m²이고, 거래금액은 360000만 원입니다.\n",
      "현대13차(208~211동)의 전용면적은 105.45m²이고, 거래금액은 425000만 원입니다.\n",
      "현대13차(208~211동)의 전용면적은 108.47m²이고, 거래금액은 415000만 원입니다.\n",
      "현대13차(208~211동)의 전용면적은 105.45m²이고, 거래금액은 430000만 원입니다.\n",
      "래미안강남힐즈의 전용면적은 101.94m²이고, 거래금액은 186000만 원입니다.\n",
      "샘터마을의 전용면적은 101.97m²이고, 거래금액은 223500만 원입니다.\n",
      "수서한아름의 전용면적은 129.45m²이고, 거래금액은 213500만 원입니다.\n",
      "강남데시앙포레의 전용면적은 101.88m²이고, 거래금액은 190900만 원입니다.\n",
      "도곡렉슬의 전용면적은 119.891m²이고, 거래금액은 276000만 원입니다.\n",
      "럭키(963)의 전용면적은 124.66m²이고, 거래금액은 225000만 원입니다.\n",
      "우성4의 전용면적은 126.46m²이고, 거래금액은 323000만 원입니다.\n",
      "도곡1차아이파크의 전용면적은 130.259m²이고, 거래금액은 268000만 원입니다.\n",
      "럭키(963)의 전용면적은 124.66m²이고, 거래금액은 229000만 원입니다.\n",
      "도곡렉슬의 전용면적은 114.993m²이고, 거래금액은 343000만 원입니다.\n",
      "한신엠비씨의 전용면적은 116.24m²이고, 거래금액은 210000만 원입니다.\n",
      "도곡렉슬의 전용면적은 119.891m²이고, 거래금액은 325000만 원입니다.\n",
      "삼익의 전용면적은 104.01m²이고, 거래금액은 181000만 원입니다.\n"
     ]
    }
   ],
   "source": [
    "# 3. 2024년 4월 강남 30평대 아파트 실거래가 + 아파트명 알려줘.\n",
    "sql = \"SELECT 단지명, 전용면적, 거래금액 FROM y24_0101_0509_서울특별시 WHERE 계약년월 = 202404 AND 시군구 LIKE '%강남구%' AND 전용면적 BETWEEN 99.173554 AND 132.231405\"\n",
    "cur.execute(sql)\n",
    "results = cur.fetchall()\n",
    "\n",
    "results\n",
    "for i in results:\n",
    "    print(f'{i[0]}의 전용면적은 {i[1]}m²이고, 거래금액은 {i[2]}만 원입니다.')"
   ]
  },
  {
   "cell_type": "code",
   "execution_count": 11,
   "id": "d433c7a1",
   "metadata": {},
   "outputs": [
    {
     "name": "stdout",
     "output_type": "stream",
     "text": [
      "현대7차(73~77,82,85동), 115억 0만원\n",
      "아이파크, 90억 0만원\n",
      "현대1차(12,13,21,22,31,32,33동), 89억 0만원\n",
      "현대2차(10,11,20,23,24,25동), 80억 0만원\n",
      "신현대12차, 74억 4000만원\n"
     ]
    }
   ],
   "source": [
    "# 4. 강남구 2024년 4월 제일 비싼 매물 5개 실거래가 알려줘.\n",
    "sql = \"SELECT 단지명, 거래금액 FROM y24_0101_0509_서울특별시 WHERE 계약년월 = 202404 AND 시군구 LIKE '%강남구%' ORDER BY 거래금액 DESC LIMIT 5\"\n",
    "cur.execute(sql)\n",
    "results = cur.fetchall()\n",
    "\n",
    "# results\n",
    "for i in results:\n",
    "    print(f'{i[0]}, {int(i[1])//10000}억 {int(i[1])%10000}만원')"
   ]
  },
  {
   "cell_type": "code",
   "execution_count": 12,
   "id": "f776aacd",
   "metadata": {},
   "outputs": [
    {
     "name": "stdout",
     "output_type": "stream",
     "text": [
      "한양수자인어반게이트, 2억 1000만원\n",
      "대우디오빌, 3억 0만원\n",
      "마일스디오빌, 3억 7500만원\n",
      "현대비젼21, 4억 4500만원\n",
      "거평프리젠, 4억 5900만원\n"
     ]
    }
   ],
   "source": [
    "# 5. 강남구 2024년 4월 제일 저렴한 매물 5개 실거래가 알려줘.\n",
    "sql = \"SELECT 단지명, 거래금액 FROM y24_0101_0509_서울특별시 WHERE 계약년월 = 202404 AND 시군구 LIKE '%강남구%' ORDER BY 거래금액 ASC LIMIT 5\"\n",
    "cur.execute(sql)\n",
    "results = cur.fetchall()\n",
    "\n",
    "# results\n",
    "for i in results:\n",
    "    print(f'{i[0]}, {int(i[1])//10000}억 {int(i[1])%10000}만원')"
   ]
  },
  {
   "cell_type": "code",
   "execution_count": 17,
   "id": "f51f91ac",
   "metadata": {},
   "outputs": [
    {
     "name": "stdout",
     "output_type": "stream",
     "text": [
      "2024년 4월 강남구 30평대 제일 저렴한 매물의 단지명은 메트로이며, 100000만 원에 거래되었고, 전용면적은 99.26m²입니다.\n"
     ]
    }
   ],
   "source": [
    "# 6. 2024년 4월 강남구 30평대 제일 저렴한 매물 알려줘 (평형별 제일 저렴한 아파트는?)\n",
    "sql = \"SELECT 단지명, 거래금액, 전용면적 FROM y24_0101_0509_서울특별시 WHERE 시군구 LIKE '%강남구%' AND 전용면적 BETWEEN 99.173554 AND 132.231405 ORDER BY 거래금액 ASC LIMIT 1\"\n",
    "cur.execute(sql)\n",
    "results = cur.fetchall()\n",
    "\n",
    "for i in results:\n",
    "    print(f'2024년 4월 강남구 30평대 제일 저렴한 매물의 단지명은 {i[0]}이며, {i[1]}만 원에 거래되었고, 전용면적은 {i[2]}m²입니다.')\n"
   ]
  },
  {
   "cell_type": "code",
   "execution_count": 20,
   "id": "e53ee1df",
   "metadata": {},
   "outputs": [
    {
     "name": "stdout",
     "output_type": "stream",
     "text": [
      "건축년도 2010년대 초반의 30평대 매물 중 최저가는 7500만 원, DMC래미안e편한세상이고, 최고가는 1200000만 원, 힐스테이트 상도 프레스티지입니다.\n"
     ]
    }
   ],
   "source": [
    "# 7. 건축년도 2010년대 초반의 30평대 매물 중 최저가와 최고가 매물은? (년식과 평형이 같은 아파트 중 최저가와 최고가 매물은?)\n",
    "# 2010년대 초반 데이터: 2010-2013 데이터로 정의\n",
    "sql = \"SELECT MIN(거래금액), MIN(단지명), MAX(거래금액), MAX(단지명) FROM y24_0101_0509_서울특별시 WHERE 건축년도 BETWEEN 2010 AND 2013\"\n",
    "cur.execute(sql)\n",
    "results = cur.fetchall()\n",
    "\n",
    "for i in results:\n",
    "    print(f'건축년도 2010년대 초반의 30평대 매물 중 최저가는 {i[0]}만 원, {i[1]}이고, 최고가는 {i[2]}만 원, {i[3]}입니다.')"
   ]
  },
  {
   "cell_type": "code",
   "execution_count": 24,
   "id": "0ff94bf9",
   "metadata": {},
   "outputs": [
    {
     "name": "stdout",
     "output_type": "stream",
     "text": [
      "전용면적은 85.0m²이고, 21회로 가장 많이 거래되었습니다.\n"
     ]
    }
   ],
   "source": [
    "# 8. 24년 도곡동 거래 매물 중 최다 거래 평형은?\n",
    "sql = \"SELECT CEIL(전용면적), COUNT(*) AS frequency FROM y24_0101_0509_서울특별시 WHERE 시군구 LIKE '%도곡동%' GROUP BY CEIL(전용면적) ORDER BY frequency DESC LIMIT 1\"\n",
    "cur.execute(sql)\n",
    "results = cur.fetchall()\n",
    "\n",
    "for i in results:\n",
    "    print(f'전용면적은 {i[0]}m²이고, {i[1]}회로 가장 많이 거래되었습니다.')"
   ]
  },
  {
   "cell_type": "code",
   "execution_count": 27,
   "id": "e9936213",
   "metadata": {},
   "outputs": [
    {
     "name": "stdout",
     "output_type": "stream",
     "text": [
      "전용면적은 149.0m²이고, 1회로 가장 적게 거래되었습니다.\n"
     ]
    }
   ],
   "source": [
    "# 9. 24년 도곡동 거래 매물 중 최소 거래 평형은?\n",
    "sql = \"SELECT CEIL(전용면적), COUNT(*) AS frequency FROM y24_0101_0509_서울특별시 WHERE 시군구 LIKE '%도곡동%' GROUP BY CEIL(전용면적) ORDER BY frequency ASC LIMIT 1\"\n",
    "cur.execute(sql)\n",
    "results = cur.fetchall()\n",
    "\n",
    "for i in results:\n",
    "    print(f'전용면적은 {i[0]}m²이고, {i[1]}회로 가장 적게 거래되었습니다.')"
   ]
  },
  {
   "cell_type": "code",
   "execution_count": 33,
   "id": "fb637ddb",
   "metadata": {},
   "outputs": [
    {
     "name": "stdout",
     "output_type": "stream",
     "text": [
      "2024년 서울특별시 중개거래와 직거래 비율은 각각 96.17%와 3.83%입니다.\n"
     ]
    }
   ],
   "source": [
    "# 10. 2024년 서울 중개거래와 직거래 비율 알려줘.\n",
    "sql = \"SELECT (COUNT(CASE WHEN 거래유형 = '중개거래' THEN 1 END) * 100) / COUNT(*) FROM y24_0101_0509_서울특별시\"\n",
    "# WHEN 거래유형 = '중개거래' THEN 1: 거래유형이 '중개거래'에 해당할 때 1을 반환해라\n",
    "# 그 외에는 NULL 값 반환.\n",
    "# COUNT()는 NULL 아닌 값만 반환하므로 거래유형이 '중개거래'인 행만 COUNT 됨.\n",
    "\n",
    "# END: CASE문의 끝을 나타냄.\n",
    "    \n",
    "cur.execute(sql)\n",
    "results = cur.fetchall()\n",
    "\n",
    "# print(f'2024년 서울특별시 중개거래 비율은 {results[0][0]:.2f}%이고, 직거래 비율은 {100-results[0][0]:.2f}%입니다.')\n",
    "for i in results:\n",
    "    print(f'2024년 서울특별시 중개거래와 직거래 비율은 각각 {i[0]:.2f}%와 {(100-i[0]):.2f}%입니다.')"
   ]
  },
  {
   "cell_type": "markdown",
   "id": "ff550638",
   "metadata": {},
   "source": [
    "칼럼명 한국어 테이블 ↓"
   ]
  },
  {
   "cell_type": "code",
   "execution_count": 35,
   "id": "24a6e724",
   "metadata": {},
   "outputs": [],
   "source": [
    "# # 데이터 프레임의 데이터를 데이터베이스에 삽입\n",
    "for index, row in df.iterrows():\n",
    "    cur.execute(f\"\"\"\n",
    "        INSERT INTO y21_강원특별자치도 (\"\"\" + \"\"\"\n",
    "            si_gun_gu,\n",
    "            street_address,\n",
    "            main_number,\n",
    "            sub_number,\n",
    "            complex_name,\n",
    "            exclusive_area,\n",
    "            contract_year_month,\n",
    "            contract_day,\n",
    "            transaction_amount,\n",
    "            dong,\n",
    "            floor,\n",
    "            buyer,\n",
    "            seller,\n",
    "            construction_year,\n",
    "            road_name,\n",
    "            cancellation_reason_date,\n",
    "            transaction_type,\n",
    "            intermediary_location,\n",
    "            registration_date\n",
    "        ) VALUES (%s, %s, %s, %s, %s, %s, %s, %s, %s, %s, %s, %s, %s, %s, %s, %s, %s, %s, %s)\n",
    "    \"\"\", (\n",
    "        row['시군구'],\n",
    "        row['번지'],\n",
    "        row['본번'],\n",
    "        row['부번'],\n",
    "        row['단지명'],\n",
    "        row['전용면적(㎡)'],\n",
    "        row['계약년월'],\n",
    "        row['계약일'],\n",
    "        row['거래금액(만원)'],\n",
    "        row['동'],\n",
    "        row['층'],\n",
    "        row['매수자'],\n",
    "        row['매도자'],\n",
    "        row['건축년도'],\n",
    "        row['도로명'],\n",
    "        row['해제사유발생일'],\n",
    "        row['거래유형'],\n",
    "        row['중개사소재지'],\n",
    "        row['등기일자']\n",
    "    ))"
   ]
  },
  {
   "cell_type": "code",
   "execution_count": null,
   "id": "ef8a3007",
   "metadata": {},
   "outputs": [],
   "source": []
  }
 ],
 "metadata": {
  "kernelspec": {
   "display_name": "Python 3 (ipykernel)",
   "language": "python",
   "name": "python3"
  },
  "language_info": {
   "codemirror_mode": {
    "name": "ipython",
    "version": 3
   },
   "file_extension": ".py",
   "mimetype": "text/x-python",
   "name": "python",
   "nbconvert_exporter": "python",
   "pygments_lexer": "ipython3",
   "version": "3.9.12"
  }
 },
 "nbformat": 4,
 "nbformat_minor": 5
}
